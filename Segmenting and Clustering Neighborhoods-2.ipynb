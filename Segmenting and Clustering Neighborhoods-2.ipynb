{
    "cells": [
        {
            "cell_type": "code",
            "execution_count": 1,
            "metadata": {},
            "outputs": [
                {
                    "name": "stdout",
                    "output_type": "stream",
                    "text": "Libraries imported.\n"
                }
            ],
            "source": "import numpy as np # library to handle data in a vectorized manner\n\nimport pandas as pd # library for data analsysis\npd.set_option(\"display.max_columns\", None)\npd.set_option(\"display.max_rows\", None)\n\nimport json # library to handle JSON files\n\nfrom geopy.geocoders import Nominatim # convert an address into latitude and longitude values\n\nimport requests # library to handle requests\nfrom bs4 import BeautifulSoup # library to parse HTML and XML documents\n\nfrom pandas.io.json import json_normalize # tranform JSON file into a pandas dataframe\n\n# Matplotlib and associated plotting modules\nimport matplotlib.cm as cm\nimport matplotlib.colors as colors\n\n# import k-means from clustering stage\nfrom sklearn.cluster import KMeans\n\nimport folium # map rendering library\n\nprint(\"Libraries imported.\")"
        },
        {
            "cell_type": "code",
            "execution_count": 2,
            "metadata": {},
            "outputs": [],
            "source": "# send the GET request\ndata = requests.get('https://en.wikipedia.org/wiki/List_of_postal_codes_of_Canada:_M').text"
        },
        {
            "cell_type": "code",
            "execution_count": 3,
            "metadata": {},
            "outputs": [],
            "source": "# parse data from the html into a beautifulsoup object\nsoup = BeautifulSoup(data, 'html.parser')"
        },
        {
            "cell_type": "code",
            "execution_count": 4,
            "metadata": {},
            "outputs": [],
            "source": "# create three lists to store table data\npostalCodeList = []\nboroughList = []\nneighborhoodList = []"
        },
        {
            "cell_type": "code",
            "execution_count": 5,
            "metadata": {},
            "outputs": [],
            "source": "# append the data into the respective lists\nfor row in soup.find('table').find_all('tr'):\n    cells = row.find_all('td')\n    if(len(cells) > 0):\n        postalCodeList.append(cells[0].text)\n        boroughList.append(cells[1].text)\n        neighborhoodList.append(cells[2].text.rstrip('\\n')) # avoid new lines in neighborhood cell"
        },
        {
            "cell_type": "code",
            "execution_count": 6,
            "metadata": {},
            "outputs": [
                {
                    "data": {
                        "text/html": "<div>\n<style scoped>\n    .dataframe tbody tr th:only-of-type {\n        vertical-align: middle;\n    }\n\n    .dataframe tbody tr th {\n        vertical-align: top;\n    }\n\n    .dataframe thead th {\n        text-align: right;\n    }\n</style>\n<table border=\"1\" class=\"dataframe\">\n  <thead>\n    <tr style=\"text-align: right;\">\n      <th></th>\n      <th>PostalCode</th>\n      <th>Borough</th>\n      <th>Neighborhood</th>\n    </tr>\n  </thead>\n  <tbody>\n    <tr>\n      <th>0</th>\n      <td>M1A\\n</td>\n      <td>Not assigned\\n</td>\n      <td></td>\n    </tr>\n    <tr>\n      <th>1</th>\n      <td>M2A\\n</td>\n      <td>Not assigned\\n</td>\n      <td></td>\n    </tr>\n    <tr>\n      <th>2</th>\n      <td>M3A\\n</td>\n      <td>North York\\n</td>\n      <td>Parkwoods</td>\n    </tr>\n    <tr>\n      <th>3</th>\n      <td>M4A\\n</td>\n      <td>North York\\n</td>\n      <td>Victoria Village</td>\n    </tr>\n    <tr>\n      <th>4</th>\n      <td>M5A\\n</td>\n      <td>Downtown Toronto\\n</td>\n      <td>Regent Park, Harbourfront</td>\n    </tr>\n  </tbody>\n</table>\n</div>",
                        "text/plain": "  PostalCode             Borough               Neighborhood\n0      M1A\\n      Not assigned\\n                           \n1      M2A\\n      Not assigned\\n                           \n2      M3A\\n        North York\\n                  Parkwoods\n3      M4A\\n        North York\\n           Victoria Village\n4      M5A\\n  Downtown Toronto\\n  Regent Park, Harbourfront"
                    },
                    "execution_count": 6,
                    "metadata": {},
                    "output_type": "execute_result"
                }
            ],
            "source": "# create a new DataFrame from the three lists\ntoronto_df = pd.DataFrame({\"PostalCode\": postalCodeList,\n                           \"Borough\": boroughList,\n                           \"Neighborhood\": neighborhoodList})\n\ntoronto_df.head()"
        },
        {
            "cell_type": "code",
            "execution_count": 7,
            "metadata": {},
            "outputs": [
                {
                    "data": {
                        "text/html": "<div>\n<style scoped>\n    .dataframe tbody tr th:only-of-type {\n        vertical-align: middle;\n    }\n\n    .dataframe tbody tr th {\n        vertical-align: top;\n    }\n\n    .dataframe thead th {\n        text-align: right;\n    }\n</style>\n<table border=\"1\" class=\"dataframe\">\n  <thead>\n    <tr style=\"text-align: right;\">\n      <th></th>\n      <th>PostalCode</th>\n      <th>Borough</th>\n      <th>Neighborhood</th>\n    </tr>\n  </thead>\n  <tbody>\n    <tr>\n      <th>0</th>\n      <td>M1A\\n</td>\n      <td>Not assigned\\n</td>\n      <td></td>\n    </tr>\n    <tr>\n      <th>1</th>\n      <td>M2A\\n</td>\n      <td>Not assigned\\n</td>\n      <td></td>\n    </tr>\n    <tr>\n      <th>2</th>\n      <td>M3A\\n</td>\n      <td>North York\\n</td>\n      <td>Parkwoods</td>\n    </tr>\n    <tr>\n      <th>3</th>\n      <td>M4A\\n</td>\n      <td>North York\\n</td>\n      <td>Victoria Village</td>\n    </tr>\n    <tr>\n      <th>4</th>\n      <td>M5A\\n</td>\n      <td>Downtown Toronto\\n</td>\n      <td>Regent Park, Harbourfront</td>\n    </tr>\n  </tbody>\n</table>\n</div>",
                        "text/plain": "  PostalCode             Borough               Neighborhood\n0      M1A\\n      Not assigned\\n                           \n1      M2A\\n      Not assigned\\n                           \n2      M3A\\n        North York\\n                  Parkwoods\n3      M4A\\n        North York\\n           Victoria Village\n4      M5A\\n  Downtown Toronto\\n  Regent Park, Harbourfront"
                    },
                    "execution_count": 7,
                    "metadata": {},
                    "output_type": "execute_result"
                }
            ],
            "source": "# drop cells with a borough that is Not assigned\ntoronto_df_dropna = toronto_df[toronto_df.Borough != \"Not assigned\"].reset_index(drop=True)\ntoronto_df_dropna.head()"
        },
        {
            "cell_type": "code",
            "execution_count": 8,
            "metadata": {},
            "outputs": [
                {
                    "data": {
                        "text/html": "<div>\n<style scoped>\n    .dataframe tbody tr th:only-of-type {\n        vertical-align: middle;\n    }\n\n    .dataframe tbody tr th {\n        vertical-align: top;\n    }\n\n    .dataframe thead th {\n        text-align: right;\n    }\n</style>\n<table border=\"1\" class=\"dataframe\">\n  <thead>\n    <tr style=\"text-align: right;\">\n      <th></th>\n      <th>PostalCode</th>\n      <th>Borough</th>\n      <th>Neighborhood</th>\n    </tr>\n  </thead>\n  <tbody>\n    <tr>\n      <th>0</th>\n      <td>M1A\\n</td>\n      <td>Not assigned\\n</td>\n      <td></td>\n    </tr>\n    <tr>\n      <th>1</th>\n      <td>M1B\\n</td>\n      <td>Scarborough\\n</td>\n      <td>Malvern, Rouge</td>\n    </tr>\n    <tr>\n      <th>2</th>\n      <td>M1C\\n</td>\n      <td>Scarborough\\n</td>\n      <td>Rouge Hill, Port Union, Highland Creek</td>\n    </tr>\n    <tr>\n      <th>3</th>\n      <td>M1E\\n</td>\n      <td>Scarborough\\n</td>\n      <td>Guildwood, Morningside, West Hill</td>\n    </tr>\n    <tr>\n      <th>4</th>\n      <td>M1G\\n</td>\n      <td>Scarborough\\n</td>\n      <td>Woburn</td>\n    </tr>\n  </tbody>\n</table>\n</div>",
                        "text/plain": "  PostalCode         Borough                            Neighborhood\n0      M1A\\n  Not assigned\\n                                        \n1      M1B\\n   Scarborough\\n                          Malvern, Rouge\n2      M1C\\n   Scarborough\\n  Rouge Hill, Port Union, Highland Creek\n3      M1E\\n   Scarborough\\n       Guildwood, Morningside, West Hill\n4      M1G\\n   Scarborough\\n                                  Woburn"
                    },
                    "execution_count": 8,
                    "metadata": {},
                    "output_type": "execute_result"
                }
            ],
            "source": "# group neighborhoods in the same borough\ntoronto_df_grouped = toronto_df_dropna.groupby([\"PostalCode\", \"Borough\"], as_index=False).agg(lambda x: \", \".join(x))\ntoronto_df_grouped.head()"
        },
        {
            "cell_type": "code",
            "execution_count": 9,
            "metadata": {},
            "outputs": [
                {
                    "data": {
                        "text/html": "<div>\n<style scoped>\n    .dataframe tbody tr th:only-of-type {\n        vertical-align: middle;\n    }\n\n    .dataframe tbody tr th {\n        vertical-align: top;\n    }\n\n    .dataframe thead th {\n        text-align: right;\n    }\n</style>\n<table border=\"1\" class=\"dataframe\">\n  <thead>\n    <tr style=\"text-align: right;\">\n      <th></th>\n      <th>PostalCode</th>\n      <th>Borough</th>\n      <th>Neighborhood</th>\n    </tr>\n  </thead>\n  <tbody>\n    <tr>\n      <th>0</th>\n      <td>M1A\\n</td>\n      <td>Not assigned\\n</td>\n      <td></td>\n    </tr>\n    <tr>\n      <th>1</th>\n      <td>M1B\\n</td>\n      <td>Scarborough\\n</td>\n      <td>Malvern, Rouge</td>\n    </tr>\n    <tr>\n      <th>2</th>\n      <td>M1C\\n</td>\n      <td>Scarborough\\n</td>\n      <td>Rouge Hill, Port Union, Highland Creek</td>\n    </tr>\n    <tr>\n      <th>3</th>\n      <td>M1E\\n</td>\n      <td>Scarborough\\n</td>\n      <td>Guildwood, Morningside, West Hill</td>\n    </tr>\n    <tr>\n      <th>4</th>\n      <td>M1G\\n</td>\n      <td>Scarborough\\n</td>\n      <td>Woburn</td>\n    </tr>\n  </tbody>\n</table>\n</div>",
                        "text/plain": "  PostalCode         Borough                            Neighborhood\n0      M1A\\n  Not assigned\\n                                        \n1      M1B\\n   Scarborough\\n                          Malvern, Rouge\n2      M1C\\n   Scarborough\\n  Rouge Hill, Port Union, Highland Creek\n3      M1E\\n   Scarborough\\n       Guildwood, Morningside, West Hill\n4      M1G\\n   Scarborough\\n                                  Woburn"
                    },
                    "execution_count": 9,
                    "metadata": {},
                    "output_type": "execute_result"
                }
            ],
            "source": "# for Neighborhood=\"Not assigned\", make the value the same as Borough\nfor index, row in toronto_df_grouped.iterrows():\n    if row[\"Neighborhood\"] == \"Not assigned\":\n        row[\"Neighborhood\"] = row[\"Borough\"]\n        \ntoronto_df_grouped.head()"
        },
        {
            "cell_type": "code",
            "execution_count": 42,
            "metadata": {},
            "outputs": [
                {
                    "data": {
                        "text/html": "<div>\n<style scoped>\n    .dataframe tbody tr th:only-of-type {\n        vertical-align: middle;\n    }\n\n    .dataframe tbody tr th {\n        vertical-align: top;\n    }\n\n    .dataframe thead th {\n        text-align: right;\n    }\n</style>\n<table border=\"1\" class=\"dataframe\">\n  <thead>\n    <tr style=\"text-align: right;\">\n      <th></th>\n      <th>PostalCode</th>\n      <th>Borough</th>\n      <th>Neighborhood</th>\n    </tr>\n  </thead>\n  <tbody>\n    <tr>\n      <th>0</th>\n      <td>M5G\\n</td>\n      <td>Downtown Toronto\\n</td>\n      <td>Central Bay Street</td>\n    </tr>\n    <tr>\n      <th>1</th>\n      <td>M2H\\n</td>\n      <td>North York\\n</td>\n      <td>Hillcrest Village</td>\n    </tr>\n    <tr>\n      <th>2</th>\n      <td>M4B\\n</td>\n      <td>East York\\n</td>\n      <td>Parkview Hill, Woodbine Gardens</td>\n    </tr>\n    <tr>\n      <th>3</th>\n      <td>M1J\\n</td>\n      <td>Scarborough\\n</td>\n      <td>Scarborough Village</td>\n    </tr>\n    <tr>\n      <th>4</th>\n      <td>M4G\\n</td>\n      <td>East York\\n</td>\n      <td>Leaside</td>\n    </tr>\n    <tr>\n      <th>5</th>\n      <td>M4M\\n</td>\n      <td>East Toronto\\n</td>\n      <td>Studio District</td>\n    </tr>\n    <tr>\n      <th>6</th>\n      <td>M1R\\n</td>\n      <td>Scarborough\\n</td>\n      <td>Wexford, Maryvale</td>\n    </tr>\n    <tr>\n      <th>7</th>\n      <td>M9V\\n</td>\n      <td>Etobicoke\\n</td>\n      <td>South Steeles, Silverstone, Humbergate, Jamest...</td>\n    </tr>\n    <tr>\n      <th>8</th>\n      <td>M9L\\n</td>\n      <td>North York\\n</td>\n      <td>Humber Summit</td>\n    </tr>\n    <tr>\n      <th>9</th>\n      <td>M5V\\n</td>\n      <td>Downtown Toronto\\n</td>\n      <td>CN Tower, King and Spadina, Railway Lands, Har...</td>\n    </tr>\n    <tr>\n      <th>10</th>\n      <td>M1B\\n</td>\n      <td>Scarborough\\n</td>\n      <td>Malvern, Rouge</td>\n    </tr>\n    <tr>\n      <th>11</th>\n      <td>M5A\\n</td>\n      <td>Downtown Toronto\\n</td>\n      <td>Regent Park, Harbourfront</td>\n    </tr>\n  </tbody>\n</table>\n</div>",
                        "text/plain": "   PostalCode             Borough  \\\n0       M5G\\n  Downtown Toronto\\n   \n1       M2H\\n        North York\\n   \n2       M4B\\n         East York\\n   \n3       M1J\\n       Scarborough\\n   \n4       M4G\\n         East York\\n   \n5       M4M\\n      East Toronto\\n   \n6       M1R\\n       Scarborough\\n   \n7       M9V\\n         Etobicoke\\n   \n8       M9L\\n        North York\\n   \n9       M5V\\n  Downtown Toronto\\n   \n10      M1B\\n       Scarborough\\n   \n11      M5A\\n  Downtown Toronto\\n   \n\n                                         Neighborhood  \n0                                  Central Bay Street  \n1                                   Hillcrest Village  \n2                     Parkview Hill, Woodbine Gardens  \n3                                 Scarborough Village  \n4                                             Leaside  \n5                                     Studio District  \n6                                   Wexford, Maryvale  \n7   South Steeles, Silverstone, Humbergate, Jamest...  \n8                                       Humber Summit  \n9   CN Tower, King and Spadina, Railway Lands, Har...  \n10                                     Malvern, Rouge  \n11                          Regent Park, Harbourfront  "
                    },
                    "execution_count": 42,
                    "metadata": {},
                    "output_type": "execute_result"
                }
            ],
            "source": "# create a new test dataframe\ncolumn_names = [\"PostalCode\", \"Borough\", \"Neighborhood\"]\ntest_df = pd.DataFrame(columns=column_names)\n\ntest_list = [\"M5G\\n\", \"M2H\\n\", \"M4B\\n\", \"M1J\\n\", \"M4G\\n\", \"M4M\\n\", \"M1R\\n\", \"M9V\\n\", \"M9L\\n\", \"M5V\\n\", \"M1B\\n\", \"M5A\\n\"]\n\nfor postcode in test_list:\n    test_df = test_df.append(toronto_df_grouped[toronto_df_grouped[\"PostalCode\"]==postcode], ignore_index=True)\n    \ntest_df"
        },
        {
            "cell_type": "code",
            "execution_count": 36,
            "metadata": {},
            "outputs": [
                {
                    "data": {
                        "text/plain": "(180, 3)"
                    },
                    "execution_count": 36,
                    "metadata": {},
                    "output_type": "execute_result"
                }
            ],
            "source": "# print the number of rows of the cleaned dataframe\ntoronto_df_grouped.shape"
        },
        {
            "cell_type": "code",
            "execution_count": 13,
            "metadata": {},
            "outputs": [
                {
                    "name": "stdout",
                    "output_type": "stream",
                    "text": "Data downloaded!\n"
                }
            ],
            "source": "!wget -q -O 'Geospatial_Coordinates.csv' http://cocl.us/Geospatial_data\nprint('Data downloaded!')"
        },
        {
            "cell_type": "code",
            "execution_count": 37,
            "metadata": {},
            "outputs": [
                {
                    "data": {
                        "text/html": "<div>\n<style scoped>\n    .dataframe tbody tr th:only-of-type {\n        vertical-align: middle;\n    }\n\n    .dataframe tbody tr th {\n        vertical-align: top;\n    }\n\n    .dataframe thead th {\n        text-align: right;\n    }\n</style>\n<table border=\"1\" class=\"dataframe\">\n  <thead>\n    <tr style=\"text-align: right;\">\n      <th></th>\n      <th>Postal Code</th>\n      <th>Latitude</th>\n      <th>Longitude</th>\n    </tr>\n  </thead>\n  <tbody>\n    <tr>\n      <th>0</th>\n      <td>M1B</td>\n      <td>43.806686</td>\n      <td>-79.194353</td>\n    </tr>\n    <tr>\n      <th>1</th>\n      <td>M1C</td>\n      <td>43.784535</td>\n      <td>-79.160497</td>\n    </tr>\n    <tr>\n      <th>2</th>\n      <td>M1E</td>\n      <td>43.763573</td>\n      <td>-79.188711</td>\n    </tr>\n    <tr>\n      <th>3</th>\n      <td>M1G</td>\n      <td>43.770992</td>\n      <td>-79.216917</td>\n    </tr>\n    <tr>\n      <th>4</th>\n      <td>M1H</td>\n      <td>43.773136</td>\n      <td>-79.239476</td>\n    </tr>\n  </tbody>\n</table>\n</div>",
                        "text/plain": "  Postal Code   Latitude  Longitude\n0         M1B  43.806686 -79.194353\n1         M1C  43.784535 -79.160497\n2         M1E  43.763573 -79.188711\n3         M1G  43.770992 -79.216917\n4         M1H  43.773136 -79.239476"
                    },
                    "execution_count": 37,
                    "metadata": {},
                    "output_type": "execute_result"
                }
            ],
            "source": "# load the coordinates from the csv file on Coursera\ncoordinates = pd.read_csv(\"Geospatial_Coordinates.csv\")\ncoordinates.head()"
        },
        {
            "cell_type": "code",
            "execution_count": 38,
            "metadata": {},
            "outputs": [
                {
                    "data": {
                        "text/html": "<div>\n<style scoped>\n    .dataframe tbody tr th:only-of-type {\n        vertical-align: middle;\n    }\n\n    .dataframe tbody tr th {\n        vertical-align: top;\n    }\n\n    .dataframe thead th {\n        text-align: right;\n    }\n</style>\n<table border=\"1\" class=\"dataframe\">\n  <thead>\n    <tr style=\"text-align: right;\">\n      <th></th>\n      <th>PostalCode</th>\n      <th>Latitude</th>\n      <th>Longitude</th>\n    </tr>\n  </thead>\n  <tbody>\n    <tr>\n      <th>0</th>\n      <td>M1B</td>\n      <td>43.806686</td>\n      <td>-79.194353</td>\n    </tr>\n    <tr>\n      <th>1</th>\n      <td>M1C</td>\n      <td>43.784535</td>\n      <td>-79.160497</td>\n    </tr>\n    <tr>\n      <th>2</th>\n      <td>M1E</td>\n      <td>43.763573</td>\n      <td>-79.188711</td>\n    </tr>\n    <tr>\n      <th>3</th>\n      <td>M1G</td>\n      <td>43.770992</td>\n      <td>-79.216917</td>\n    </tr>\n    <tr>\n      <th>4</th>\n      <td>M1H</td>\n      <td>43.773136</td>\n      <td>-79.239476</td>\n    </tr>\n  </tbody>\n</table>\n</div>",
                        "text/plain": "  PostalCode   Latitude  Longitude\n0        M1B  43.806686 -79.194353\n1        M1C  43.784535 -79.160497\n2        M1E  43.763573 -79.188711\n3        M1G  43.770992 -79.216917\n4        M1H  43.773136 -79.239476"
                    },
                    "execution_count": 38,
                    "metadata": {},
                    "output_type": "execute_result"
                }
            ],
            "source": "# rename the column \"PostalCode\"\ncoordinates.rename(columns={\"Postal Code\": \"PostalCode\"}, inplace=True)\ncoordinates.head()"
        },
        {
            "cell_type": "code",
            "execution_count": 39,
            "metadata": {},
            "outputs": [
                {
                    "data": {
                        "text/html": "<div>\n<style scoped>\n    .dataframe tbody tr th:only-of-type {\n        vertical-align: middle;\n    }\n\n    .dataframe tbody tr th {\n        vertical-align: top;\n    }\n\n    .dataframe thead th {\n        text-align: right;\n    }\n</style>\n<table border=\"1\" class=\"dataframe\">\n  <thead>\n    <tr style=\"text-align: right;\">\n      <th></th>\n      <th>PostalCode</th>\n      <th>Borough</th>\n      <th>Neighborhood</th>\n      <th>Latitude</th>\n      <th>Longitude</th>\n    </tr>\n  </thead>\n  <tbody>\n    <tr>\n      <th>0</th>\n      <td>M1A\\n</td>\n      <td>Not assigned\\n</td>\n      <td></td>\n      <td>NaN</td>\n      <td>NaN</td>\n    </tr>\n    <tr>\n      <th>1</th>\n      <td>M1B\\n</td>\n      <td>Scarborough\\n</td>\n      <td>Malvern, Rouge</td>\n      <td>NaN</td>\n      <td>NaN</td>\n    </tr>\n    <tr>\n      <th>2</th>\n      <td>M1C\\n</td>\n      <td>Scarborough\\n</td>\n      <td>Rouge Hill, Port Union, Highland Creek</td>\n      <td>NaN</td>\n      <td>NaN</td>\n    </tr>\n    <tr>\n      <th>3</th>\n      <td>M1E\\n</td>\n      <td>Scarborough\\n</td>\n      <td>Guildwood, Morningside, West Hill</td>\n      <td>NaN</td>\n      <td>NaN</td>\n    </tr>\n    <tr>\n      <th>4</th>\n      <td>M1G\\n</td>\n      <td>Scarborough\\n</td>\n      <td>Woburn</td>\n      <td>NaN</td>\n      <td>NaN</td>\n    </tr>\n  </tbody>\n</table>\n</div>",
                        "text/plain": "  PostalCode         Borough                            Neighborhood  \\\n0      M1A\\n  Not assigned\\n                                           \n1      M1B\\n   Scarborough\\n                          Malvern, Rouge   \n2      M1C\\n   Scarborough\\n  Rouge Hill, Port Union, Highland Creek   \n3      M1E\\n   Scarborough\\n       Guildwood, Morningside, West Hill   \n4      M1G\\n   Scarborough\\n                                  Woburn   \n\n   Latitude  Longitude  \n0       NaN        NaN  \n1       NaN        NaN  \n2       NaN        NaN  \n3       NaN        NaN  \n4       NaN        NaN  "
                    },
                    "execution_count": 39,
                    "metadata": {},
                    "output_type": "execute_result"
                }
            ],
            "source": "# merge two table on the column \"PostalCode\"\ntoronto_df_new = toronto_df_grouped.merge(coordinates, on=\"PostalCode\", how=\"left\")\ntoronto_df_new.head()"
        },
        {
            "cell_type": "code",
            "execution_count": 41,
            "metadata": {},
            "outputs": [
                {
                    "data": {
                        "text/html": "<div>\n<style scoped>\n    .dataframe tbody tr th:only-of-type {\n        vertical-align: middle;\n    }\n\n    .dataframe tbody tr th {\n        vertical-align: top;\n    }\n\n    .dataframe thead th {\n        text-align: right;\n    }\n</style>\n<table border=\"1\" class=\"dataframe\">\n  <thead>\n    <tr style=\"text-align: right;\">\n      <th></th>\n      <th>PostalCode</th>\n      <th>Borough</th>\n      <th>Neighborhood</th>\n      <th>Latitude</th>\n      <th>Longitude</th>\n    </tr>\n  </thead>\n  <tbody>\n    <tr>\n      <th>0</th>\n      <td>M5G\\n</td>\n      <td>Downtown Toronto\\n</td>\n      <td>Central Bay Street</td>\n      <td>NaN</td>\n      <td>NaN</td>\n    </tr>\n    <tr>\n      <th>1</th>\n      <td>M2H\\n</td>\n      <td>North York\\n</td>\n      <td>Hillcrest Village</td>\n      <td>NaN</td>\n      <td>NaN</td>\n    </tr>\n    <tr>\n      <th>2</th>\n      <td>M4B\\n</td>\n      <td>East York\\n</td>\n      <td>Parkview Hill, Woodbine Gardens</td>\n      <td>NaN</td>\n      <td>NaN</td>\n    </tr>\n    <tr>\n      <th>3</th>\n      <td>M1J\\n</td>\n      <td>Scarborough\\n</td>\n      <td>Scarborough Village</td>\n      <td>NaN</td>\n      <td>NaN</td>\n    </tr>\n    <tr>\n      <th>4</th>\n      <td>M4G\\n</td>\n      <td>East York\\n</td>\n      <td>Leaside</td>\n      <td>NaN</td>\n      <td>NaN</td>\n    </tr>\n    <tr>\n      <th>5</th>\n      <td>M4M\\n</td>\n      <td>East Toronto\\n</td>\n      <td>Studio District</td>\n      <td>NaN</td>\n      <td>NaN</td>\n    </tr>\n    <tr>\n      <th>6</th>\n      <td>M1R\\n</td>\n      <td>Scarborough\\n</td>\n      <td>Wexford, Maryvale</td>\n      <td>NaN</td>\n      <td>NaN</td>\n    </tr>\n    <tr>\n      <th>7</th>\n      <td>M9V\\n</td>\n      <td>Etobicoke\\n</td>\n      <td>South Steeles, Silverstone, Humbergate, Jamest...</td>\n      <td>NaN</td>\n      <td>NaN</td>\n    </tr>\n    <tr>\n      <th>8</th>\n      <td>M9L\\n</td>\n      <td>North York\\n</td>\n      <td>Humber Summit</td>\n      <td>NaN</td>\n      <td>NaN</td>\n    </tr>\n    <tr>\n      <th>9</th>\n      <td>M5V\\n</td>\n      <td>Downtown Toronto\\n</td>\n      <td>CN Tower, King and Spadina, Railway Lands, Har...</td>\n      <td>NaN</td>\n      <td>NaN</td>\n    </tr>\n    <tr>\n      <th>10</th>\n      <td>M5A\\n</td>\n      <td>Downtown Toronto\\n</td>\n      <td>Regent Park, Harbourfront</td>\n      <td>NaN</td>\n      <td>NaN</td>\n    </tr>\n  </tbody>\n</table>\n</div>",
                        "text/plain": "   PostalCode             Borough  \\\n0       M5G\\n  Downtown Toronto\\n   \n1       M2H\\n        North York\\n   \n2       M4B\\n         East York\\n   \n3       M1J\\n       Scarborough\\n   \n4       M4G\\n         East York\\n   \n5       M4M\\n      East Toronto\\n   \n6       M1R\\n       Scarborough\\n   \n7       M9V\\n         Etobicoke\\n   \n8       M9L\\n        North York\\n   \n9       M5V\\n  Downtown Toronto\\n   \n10      M5A\\n  Downtown Toronto\\n   \n\n                                         Neighborhood Latitude Longitude  \n0                                  Central Bay Street      NaN       NaN  \n1                                   Hillcrest Village      NaN       NaN  \n2                     Parkview Hill, Woodbine Gardens      NaN       NaN  \n3                                 Scarborough Village      NaN       NaN  \n4                                             Leaside      NaN       NaN  \n5                                     Studio District      NaN       NaN  \n6                                   Wexford, Maryvale      NaN       NaN  \n7   South Steeles, Silverstone, Humbergate, Jamest...      NaN       NaN  \n8                                       Humber Summit      NaN       NaN  \n9   CN Tower, King and Spadina, Railway Lands, Har...      NaN       NaN  \n10                          Regent Park, Harbourfront      NaN       NaN  "
                    },
                    "execution_count": 41,
                    "metadata": {},
                    "output_type": "execute_result"
                }
            ],
            "source": "# create a new test dataframe\ncolumn_names = [\"PostalCode\", \"Borough\", \"Neighborhood\", \"Latitude\", \"Longitude\"]\ntestdf = pd.DataFrame(columns=column_names)\n\ntest_list = [\"M5G\\n\", \"M2H\\n\", \"M4B\\n\", \"M1J\\n\", \"M4G\\n\", \"M4M\\n\", \"M1R\\n\", \"M9V\\n\", \"M9L\\n\", \"M5V\\n\", \"M1Bv\", \"M5A\\n\"]\n\nfor postcode in test_list:\n    testdf = testdf.append(toronto_df_new[toronto_df_new[\"PostalCode\"]==postcode], ignore_index=True)\n    \ntestdf"
        },
        {
            "cell_type": "code",
            "execution_count": null,
            "metadata": {},
            "outputs": [],
            "source": ""
        }
    ],
    "metadata": {
        "kernelspec": {
            "display_name": "Python 3.6",
            "language": "python",
            "name": "python3"
        },
        "language_info": {
            "codemirror_mode": {
                "name": "ipython",
                "version": 3
            },
            "file_extension": ".py",
            "mimetype": "text/x-python",
            "name": "python",
            "nbconvert_exporter": "python",
            "pygments_lexer": "ipython3",
            "version": "3.6.9"
        }
    },
    "nbformat": 4,
    "nbformat_minor": 1
}